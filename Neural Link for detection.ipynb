{
 "cells": [
  {
   "cell_type": "code",
   "execution_count": 1,
   "metadata": {},
   "outputs": [],
   "source": [
    "import pandas as pd\n",
    "import numpy as np\n",
    "\n",
    "from sklearn.model_selection import train_test_split\n",
    "from sklearn.feature_extraction.text import TfidfVectorizer, CountVectorizer\n",
    "from sklearn.metrics import accuracy_score, precision_score, recall_score, confusion_matrix, f1_score\n",
    "from sklearn.naive_bayes import MultinomialNB, GaussianNB\n",
    "from sklearn.ensemble import RandomForestClassifier\n",
    "\n",
    "import seaborn as sns\n",
    "import matplotlib.pyplot as plt"
   ]
  },
  {
   "cell_type": "code",
   "execution_count": 2,
   "metadata": {},
   "outputs": [
    {
     "data": {
      "text/html": [
       "<div>\n",
       "<style scoped>\n",
       "    .dataframe tbody tr th:only-of-type {\n",
       "        vertical-align: middle;\n",
       "    }\n",
       "\n",
       "    .dataframe tbody tr th {\n",
       "        vertical-align: top;\n",
       "    }\n",
       "\n",
       "    .dataframe thead th {\n",
       "        text-align: right;\n",
       "    }\n",
       "</style>\n",
       "<table border=\"1\" class=\"dataframe\">\n",
       "  <thead>\n",
       "    <tr style=\"text-align: right;\">\n",
       "      <th></th>\n",
       "      <th>text</th>\n",
       "      <th>label</th>\n",
       "    </tr>\n",
       "  </thead>\n",
       "  <tbody>\n",
       "    <tr>\n",
       "      <th>0</th>\n",
       "      <td>лива туввар сири алла islamstate қарс ұрыс баст</td>\n",
       "      <td>1</td>\n",
       "    </tr>\n",
       "    <tr>\n",
       "      <th>1</th>\n",
       "      <td>терр итте бүлі айна turkey pkk twitterkurds t</td>\n",
       "      <td>1</td>\n",
       "    </tr>\n",
       "    <tr>\n",
       "      <th>2</th>\n",
       "      <td>әлха газва арна айма олар кейі олар алепп қайт...</td>\n",
       "      <td>1</td>\n",
       "    </tr>\n",
       "    <tr>\n",
       "      <th>3</th>\n",
       "      <td>сири ресе n басы кіру тура алаң кіру мүмкін ем...</td>\n",
       "      <td>1</td>\n",
       "    </tr>\n",
       "    <tr>\n",
       "      <th>4</th>\n",
       "      <td>ядролық соғы соғы келе жаты</td>\n",
       "      <td>1</td>\n",
       "    </tr>\n",
       "    <tr>\n",
       "      <th>...</th>\n",
       "      <td>...</td>\n",
       "      <td>...</td>\n",
       "    </tr>\n",
       "    <tr>\n",
       "      <th>11676</th>\n",
       "      <td>қарт шаққа дейі өмір сүре кепіл бере бе жоқ, е...</td>\n",
       "      <td>0</td>\n",
       "    </tr>\n",
       "    <tr>\n",
       "      <th>11677</th>\n",
       "      <td>ан оқып үйре сіз үшін бүгі кере ұсын бар курс ...</td>\n",
       "      <td>0</td>\n",
       "    </tr>\n",
       "    <tr>\n",
       "      <th>11678</th>\n",
       "      <td>таз жеке текс қада толы ақпа алу үшін сілте өт...</td>\n",
       "      <td>0</td>\n",
       "    </tr>\n",
       "    <tr>\n",
       "      <th>11679</th>\n",
       "      <td>а таға кеші тіле шүкір ете отыр рабб пәкт ұлық...</td>\n",
       "      <td>0</td>\n",
       "    </tr>\n",
       "    <tr>\n",
       "      <th>11680</th>\n",
       "      <td>бір мұсыл пайғ с ғ с кім бізд алда ол бізд еме...</td>\n",
       "      <td>0</td>\n",
       "    </tr>\n",
       "  </tbody>\n",
       "</table>\n",
       "<p>11681 rows × 2 columns</p>\n",
       "</div>"
      ],
      "text/plain": [
       "                                                    text  label\n",
       "0       лива туввар сири алла islamstate қарс ұрыс баст       1\n",
       "1         терр итте бүлі айна turkey pkk twitterkurds t       1\n",
       "2      әлха газва арна айма олар кейі олар алепп қайт...      1\n",
       "3      сири ресе n басы кіру тура алаң кіру мүмкін ем...      1\n",
       "4                           ядролық соғы соғы келе жаты       1\n",
       "...                                                  ...    ...\n",
       "11676  қарт шаққа дейі өмір сүре кепіл бере бе жоқ, е...      0\n",
       "11677  ан оқып үйре сіз үшін бүгі кере ұсын бар курс ...      0\n",
       "11678  таз жеке текс қада толы ақпа алу үшін сілте өт...      0\n",
       "11679  а таға кеші тіле шүкір ете отыр рабб пәкт ұлық...      0\n",
       "11680  бір мұсыл пайғ с ғ с кім бізд алда ол бізд еме...      0\n",
       "\n",
       "[11681 rows x 2 columns]"
      ]
     },
     "execution_count": 2,
     "metadata": {},
     "output_type": "execute_result"
    }
   ],
   "source": [
    "df = pd.read_csv('Corpus/corpus_stemmed_more3.csv')\n",
    "df['text'] = df['text'].astype(str)\n",
    "df['label'] = pd.to_numeric(df['label'])\n",
    "df"
   ]
  },
  {
   "cell_type": "code",
   "execution_count": 3,
   "metadata": {},
   "outputs": [
    {
     "data": {
      "text/plain": [
       "text     10329\n",
       "label        2\n",
       "dtype: int64"
      ]
     },
     "execution_count": 3,
     "metadata": {},
     "output_type": "execute_result"
    }
   ],
   "source": [
    "df.nunique()"
   ]
  },
  {
   "cell_type": "code",
   "execution_count": 4,
   "metadata": {},
   "outputs": [
    {
     "data": {
      "text/plain": [
       "12286"
      ]
     },
     "execution_count": 4,
     "metadata": {},
     "output_type": "execute_result"
    }
   ],
   "source": [
    "len(list(set(\" \".join(df.text.tolist()).split(\" \"))))"
   ]
  },
  {
   "cell_type": "code",
   "execution_count": 5,
   "metadata": {},
   "outputs": [
    {
     "data": {
      "text/html": [
       "<div>\n",
       "<style scoped>\n",
       "    .dataframe tbody tr th:only-of-type {\n",
       "        vertical-align: middle;\n",
       "    }\n",
       "\n",
       "    .dataframe tbody tr th {\n",
       "        vertical-align: top;\n",
       "    }\n",
       "\n",
       "    .dataframe thead th {\n",
       "        text-align: right;\n",
       "    }\n",
       "</style>\n",
       "<table border=\"1\" class=\"dataframe\">\n",
       "  <thead>\n",
       "    <tr style=\"text-align: right;\">\n",
       "      <th></th>\n",
       "      <th>text</th>\n",
       "      <th>label</th>\n",
       "    </tr>\n",
       "  </thead>\n",
       "  <tbody>\n",
       "    <tr>\n",
       "      <th>0</th>\n",
       "      <td>лива туввар сири алла islamstate қарс ұрыс баст</td>\n",
       "      <td>1</td>\n",
       "    </tr>\n",
       "    <tr>\n",
       "      <th>1</th>\n",
       "      <td>терр итте бүлі айна turkey pkk twitterkurds t</td>\n",
       "      <td>1</td>\n",
       "    </tr>\n",
       "    <tr>\n",
       "      <th>2</th>\n",
       "      <td>әлха газва арна айма олар кейі олар алепп қайт...</td>\n",
       "      <td>1</td>\n",
       "    </tr>\n",
       "    <tr>\n",
       "      <th>3</th>\n",
       "      <td>сири ресе n басы кіру тура алаң кіру мүмкін ем...</td>\n",
       "      <td>1</td>\n",
       "    </tr>\n",
       "    <tr>\n",
       "      <th>4</th>\n",
       "      <td>ядролық соғы соғы келе жаты</td>\n",
       "      <td>1</td>\n",
       "    </tr>\n",
       "    <tr>\n",
       "      <th>...</th>\n",
       "      <td>...</td>\n",
       "      <td>...</td>\n",
       "    </tr>\n",
       "    <tr>\n",
       "      <th>1180</th>\n",
       "      <td>кәпір жиһа қолд ана жақт мұсыл қыры жаты ал се...</td>\n",
       "      <td>1</td>\n",
       "    </tr>\n",
       "    <tr>\n",
       "      <th>1181</th>\n",
       "      <td>мен алла жолы соғы үшін бард ғой қаза орал тур...</td>\n",
       "      <td>1</td>\n",
       "    </tr>\n",
       "    <tr>\n",
       "      <th>1182</th>\n",
       "      <td>в игил мы жили хорошо,грабили,насилова ли,соби...</td>\n",
       "      <td>1</td>\n",
       "    </tr>\n",
       "    <tr>\n",
       "      <th>1183</th>\n",
       "      <td>джиха ол битва за веру мудж сол джиха катысушы...</td>\n",
       "      <td>1</td>\n",
       "    </tr>\n",
       "    <tr>\n",
       "      <th>1184</th>\n",
       "      <td>ахы ас саля алей ахы шама джиха</td>\n",
       "      <td>1</td>\n",
       "    </tr>\n",
       "  </tbody>\n",
       "</table>\n",
       "<p>1185 rows × 2 columns</p>\n",
       "</div>"
      ],
      "text/plain": [
       "                                                   text  label\n",
       "0      лива туввар сири алла islamstate қарс ұрыс баст       1\n",
       "1        терр итте бүлі айна turkey pkk twitterkurds t       1\n",
       "2     әлха газва арна айма олар кейі олар алепп қайт...      1\n",
       "3     сири ресе n басы кіру тура алаң кіру мүмкін ем...      1\n",
       "4                          ядролық соғы соғы келе жаты       1\n",
       "...                                                 ...    ...\n",
       "1180  кәпір жиһа қолд ана жақт мұсыл қыры жаты ал се...      1\n",
       "1181  мен алла жолы соғы үшін бард ғой қаза орал тур...      1\n",
       "1182  в игил мы жили хорошо,грабили,насилова ли,соби...      1\n",
       "1183  джиха ол битва за веру мудж сол джиха катысушы...      1\n",
       "1184                   ахы ас саля алей ахы шама джиха       1\n",
       "\n",
       "[1185 rows x 2 columns]"
      ]
     },
     "execution_count": 5,
     "metadata": {},
     "output_type": "execute_result"
    }
   ],
   "source": [
    "df.loc[df['label'] == 1]"
   ]
  },
  {
   "cell_type": "code",
   "execution_count": 6,
   "metadata": {},
   "outputs": [
    {
     "data": {
      "text/html": [
       "<div>\n",
       "<style scoped>\n",
       "    .dataframe tbody tr th:only-of-type {\n",
       "        vertical-align: middle;\n",
       "    }\n",
       "\n",
       "    .dataframe tbody tr th {\n",
       "        vertical-align: top;\n",
       "    }\n",
       "\n",
       "    .dataframe thead th {\n",
       "        text-align: right;\n",
       "    }\n",
       "</style>\n",
       "<table border=\"1\" class=\"dataframe\">\n",
       "  <thead>\n",
       "    <tr style=\"text-align: right;\">\n",
       "      <th></th>\n",
       "      <th>text</th>\n",
       "      <th>label</th>\n",
       "    </tr>\n",
       "  </thead>\n",
       "  <tbody>\n",
       "    <tr>\n",
       "      <th>1185</th>\n",
       "      <td>ғамбар арты еру, бұл бізд ең баст мақсат ал, ғ...</td>\n",
       "      <td>0</td>\n",
       "    </tr>\n",
       "    <tr>\n",
       "      <th>1186</th>\n",
       "      <td>әнданған кезд шоқын кере деген сияқты сөзд дін...</td>\n",
       "      <td>0</td>\n",
       "    </tr>\n",
       "    <tr>\n",
       "      <th>1187</th>\n",
       "      <td>ақ асса алай уа раxм уа бара құпта нама мешіт ...</td>\n",
       "      <td>0</td>\n",
       "    </tr>\n",
       "    <tr>\n",
       "      <th>1188</th>\n",
       "      <td>ақ егер біре не үшін нама оқу кере , деп сұра ...</td>\n",
       "      <td>0</td>\n",
       "    </tr>\n",
       "    <tr>\n",
       "      <th>1189</th>\n",
       "      <td>ақ ибн баз, ибн усаймин, альб бұла мүшр ме жау...</td>\n",
       "      <td>0</td>\n",
       "    </tr>\n",
       "    <tr>\n",
       "      <th>...</th>\n",
       "      <td>...</td>\n",
       "      <td>...</td>\n",
       "    </tr>\n",
       "    <tr>\n",
       "      <th>11676</th>\n",
       "      <td>қарт шаққа дейі өмір сүре кепіл бере бе жоқ, е...</td>\n",
       "      <td>0</td>\n",
       "    </tr>\n",
       "    <tr>\n",
       "      <th>11677</th>\n",
       "      <td>ан оқып үйре сіз үшін бүгі кере ұсын бар курс ...</td>\n",
       "      <td>0</td>\n",
       "    </tr>\n",
       "    <tr>\n",
       "      <th>11678</th>\n",
       "      <td>таз жеке текс қада толы ақпа алу үшін сілте өт...</td>\n",
       "      <td>0</td>\n",
       "    </tr>\n",
       "    <tr>\n",
       "      <th>11679</th>\n",
       "      <td>а таға кеші тіле шүкір ете отыр рабб пәкт ұлық...</td>\n",
       "      <td>0</td>\n",
       "    </tr>\n",
       "    <tr>\n",
       "      <th>11680</th>\n",
       "      <td>бір мұсыл пайғ с ғ с кім бізд алда ол бізд еме...</td>\n",
       "      <td>0</td>\n",
       "    </tr>\n",
       "  </tbody>\n",
       "</table>\n",
       "<p>10496 rows × 2 columns</p>\n",
       "</div>"
      ],
      "text/plain": [
       "                                                    text  label\n",
       "1185   ғамбар арты еру, бұл бізд ең баст мақсат ал, ғ...      0\n",
       "1186   әнданған кезд шоқын кере деген сияқты сөзд дін...      0\n",
       "1187   ақ асса алай уа раxм уа бара құпта нама мешіт ...      0\n",
       "1188   ақ егер біре не үшін нама оқу кере , деп сұра ...      0\n",
       "1189   ақ ибн баз, ибн усаймин, альб бұла мүшр ме жау...      0\n",
       "...                                                  ...    ...\n",
       "11676  қарт шаққа дейі өмір сүре кепіл бере бе жоқ, е...      0\n",
       "11677  ан оқып үйре сіз үшін бүгі кере ұсын бар курс ...      0\n",
       "11678  таз жеке текс қада толы ақпа алу үшін сілте өт...      0\n",
       "11679  а таға кеші тіле шүкір ете отыр рабб пәкт ұлық...      0\n",
       "11680  бір мұсыл пайғ с ғ с кім бізд алда ол бізд еме...      0\n",
       "\n",
       "[10496 rows x 2 columns]"
      ]
     },
     "execution_count": 6,
     "metadata": {},
     "output_type": "execute_result"
    }
   ],
   "source": [
    "df.loc[df['label'] == 0]"
   ]
  },
  {
   "cell_type": "markdown",
   "metadata": {},
   "source": [
    "# Learning algorithms"
   ]
  },
  {
   "cell_type": "code",
   "execution_count": 7,
   "metadata": {},
   "outputs": [
    {
     "data": {
      "text/html": [
       "<div>\n",
       "<style scoped>\n",
       "    .dataframe tbody tr th:only-of-type {\n",
       "        vertical-align: middle;\n",
       "    }\n",
       "\n",
       "    .dataframe tbody tr th {\n",
       "        vertical-align: top;\n",
       "    }\n",
       "\n",
       "    .dataframe thead th {\n",
       "        text-align: right;\n",
       "    }\n",
       "</style>\n",
       "<table border=\"1\" class=\"dataframe\">\n",
       "  <thead>\n",
       "    <tr style=\"text-align: right;\">\n",
       "      <th></th>\n",
       "      <th>text</th>\n",
       "      <th>label</th>\n",
       "    </tr>\n",
       "  </thead>\n",
       "  <tbody>\n",
       "    <tr>\n",
       "      <th>0</th>\n",
       "      <td>лива туввар сири алла islamstate қарс ұрыс баст</td>\n",
       "      <td>1</td>\n",
       "    </tr>\n",
       "    <tr>\n",
       "      <th>1</th>\n",
       "      <td>терр итте бүлі айна turkey pkk twitterkurds t</td>\n",
       "      <td>1</td>\n",
       "    </tr>\n",
       "    <tr>\n",
       "      <th>2</th>\n",
       "      <td>әлха газва арна айма олар кейі олар алепп қайт...</td>\n",
       "      <td>1</td>\n",
       "    </tr>\n",
       "    <tr>\n",
       "      <th>3</th>\n",
       "      <td>сири ресе n басы кіру тура алаң кіру мүмкін ем...</td>\n",
       "      <td>1</td>\n",
       "    </tr>\n",
       "    <tr>\n",
       "      <th>4</th>\n",
       "      <td>ядролық соғы соғы келе жаты</td>\n",
       "      <td>1</td>\n",
       "    </tr>\n",
       "    <tr>\n",
       "      <th>...</th>\n",
       "      <td>...</td>\n",
       "      <td>...</td>\n",
       "    </tr>\n",
       "    <tr>\n",
       "      <th>2365</th>\n",
       "      <td>ббылары тара өздер сенд еске үшін бір кісі нас...</td>\n",
       "      <td>0</td>\n",
       "    </tr>\n",
       "    <tr>\n",
       "      <th>2366</th>\n",
       "      <td>р сен бізге жалғ ғана алла құлшы қылу және ата...</td>\n",
       "      <td>0</td>\n",
       "    </tr>\n",
       "    <tr>\n",
       "      <th>2367</th>\n",
       "      <td>д ғ с рабб тара азап және ашу тиіс болды алла ...</td>\n",
       "      <td>0</td>\n",
       "    </tr>\n",
       "    <tr>\n",
       "      <th>2368</th>\n",
       "      <td>да һұд ғ с ты, онымен бірге болғ мәрхамет құтқ...</td>\n",
       "      <td>0</td>\n",
       "    </tr>\n",
       "    <tr>\n",
       "      <th>2369</th>\n",
       "      <td>е сәмүд елін туыс сали ғ с ды жібе әй қауы алл...</td>\n",
       "      <td>0</td>\n",
       "    </tr>\n",
       "  </tbody>\n",
       "</table>\n",
       "<p>2370 rows × 2 columns</p>\n",
       "</div>"
      ],
      "text/plain": [
       "                                                   text  label\n",
       "0      лива туввар сири алла islamstate қарс ұрыс баст       1\n",
       "1        терр итте бүлі айна turkey pkk twitterkurds t       1\n",
       "2     әлха газва арна айма олар кейі олар алепп қайт...      1\n",
       "3     сири ресе n басы кіру тура алаң кіру мүмкін ем...      1\n",
       "4                          ядролық соғы соғы келе жаты       1\n",
       "...                                                 ...    ...\n",
       "2365  ббылары тара өздер сенд еске үшін бір кісі нас...      0\n",
       "2366  р сен бізге жалғ ғана алла құлшы қылу және ата...      0\n",
       "2367  д ғ с рабб тара азап және ашу тиіс болды алла ...      0\n",
       "2368  да һұд ғ с ты, онымен бірге болғ мәрхамет құтқ...      0\n",
       "2369  е сәмүд елін туыс сали ғ с ды жібе әй қауы алл...      0\n",
       "\n",
       "[2370 rows x 2 columns]"
      ]
     },
     "execution_count": 7,
     "metadata": {},
     "output_type": "execute_result"
    }
   ],
   "source": [
    "ext = df.loc[df['label'] == 1].values.tolist()\n",
    "neu = df.loc[df['label'] == 0].values.tolist()[:1185]\n",
    "balanced = pd.DataFrame(ext+neu, columns = ['text', 'label'])\n",
    "balanced"
   ]
  },
  {
   "cell_type": "raw",
   "metadata": {},
   "source": [
    "balanced = pd.DataFrame(df)"
   ]
  },
  {
   "cell_type": "code",
   "execution_count": 8,
   "metadata": {},
   "outputs": [
    {
     "data": {
      "text/html": [
       "<div>\n",
       "<style scoped>\n",
       "    .dataframe tbody tr th:only-of-type {\n",
       "        vertical-align: middle;\n",
       "    }\n",
       "\n",
       "    .dataframe tbody tr th {\n",
       "        vertical-align: top;\n",
       "    }\n",
       "\n",
       "    .dataframe thead th {\n",
       "        text-align: right;\n",
       "    }\n",
       "</style>\n",
       "<table border=\"1\" class=\"dataframe\">\n",
       "  <thead>\n",
       "    <tr style=\"text-align: right;\">\n",
       "      <th></th>\n",
       "      <th>text</th>\n",
       "      <th>label</th>\n",
       "      <th>category</th>\n",
       "    </tr>\n",
       "  </thead>\n",
       "  <tbody>\n",
       "    <tr>\n",
       "      <th>0</th>\n",
       "      <td>лива туввар сири алла islamstate қарс ұрыс баст</td>\n",
       "      <td>1</td>\n",
       "      <td>extremist</td>\n",
       "    </tr>\n",
       "    <tr>\n",
       "      <th>1</th>\n",
       "      <td>терр итте бүлі айна turkey pkk twitterkurds t</td>\n",
       "      <td>1</td>\n",
       "      <td>extremist</td>\n",
       "    </tr>\n",
       "    <tr>\n",
       "      <th>2</th>\n",
       "      <td>әлха газва арна айма олар кейі олар алепп қайт...</td>\n",
       "      <td>1</td>\n",
       "      <td>extremist</td>\n",
       "    </tr>\n",
       "    <tr>\n",
       "      <th>3</th>\n",
       "      <td>сири ресе n басы кіру тура алаң кіру мүмкін ем...</td>\n",
       "      <td>1</td>\n",
       "      <td>extremist</td>\n",
       "    </tr>\n",
       "    <tr>\n",
       "      <th>4</th>\n",
       "      <td>ядролық соғы соғы келе жаты</td>\n",
       "      <td>1</td>\n",
       "      <td>extremist</td>\n",
       "    </tr>\n",
       "    <tr>\n",
       "      <th>...</th>\n",
       "      <td>...</td>\n",
       "      <td>...</td>\n",
       "      <td>...</td>\n",
       "    </tr>\n",
       "    <tr>\n",
       "      <th>2365</th>\n",
       "      <td>ббылары тара өздер сенд еске үшін бір кісі нас...</td>\n",
       "      <td>0</td>\n",
       "      <td>neutral</td>\n",
       "    </tr>\n",
       "    <tr>\n",
       "      <th>2366</th>\n",
       "      <td>р сен бізге жалғ ғана алла құлшы қылу және ата...</td>\n",
       "      <td>0</td>\n",
       "      <td>neutral</td>\n",
       "    </tr>\n",
       "    <tr>\n",
       "      <th>2367</th>\n",
       "      <td>д ғ с рабб тара азап және ашу тиіс болды алла ...</td>\n",
       "      <td>0</td>\n",
       "      <td>neutral</td>\n",
       "    </tr>\n",
       "    <tr>\n",
       "      <th>2368</th>\n",
       "      <td>да һұд ғ с ты, онымен бірге болғ мәрхамет құтқ...</td>\n",
       "      <td>0</td>\n",
       "      <td>neutral</td>\n",
       "    </tr>\n",
       "    <tr>\n",
       "      <th>2369</th>\n",
       "      <td>е сәмүд елін туыс сали ғ с ды жібе әй қауы алл...</td>\n",
       "      <td>0</td>\n",
       "      <td>neutral</td>\n",
       "    </tr>\n",
       "  </tbody>\n",
       "</table>\n",
       "<p>2370 rows × 3 columns</p>\n",
       "</div>"
      ],
      "text/plain": [
       "                                                   text  label   category\n",
       "0      лива туввар сири алла islamstate қарс ұрыс баст       1  extremist\n",
       "1        терр итте бүлі айна turkey pkk twitterkurds t       1  extremist\n",
       "2     әлха газва арна айма олар кейі олар алепп қайт...      1  extremist\n",
       "3     сири ресе n басы кіру тура алаң кіру мүмкін ем...      1  extremist\n",
       "4                          ядролық соғы соғы келе жаты       1  extremist\n",
       "...                                                 ...    ...        ...\n",
       "2365  ббылары тара өздер сенд еске үшін бір кісі нас...      0    neutral\n",
       "2366  р сен бізге жалғ ғана алла құлшы қылу және ата...      0    neutral\n",
       "2367  д ғ с рабб тара азап және ашу тиіс болды алла ...      0    neutral\n",
       "2368  да һұд ғ с ты, онымен бірге болғ мәрхамет құтқ...      0    neutral\n",
       "2369  е сәмүд елін туыс сали ғ с ды жібе әй қауы алл...      0    neutral\n",
       "\n",
       "[2370 rows x 3 columns]"
      ]
     },
     "execution_count": 8,
     "metadata": {},
     "output_type": "execute_result"
    }
   ],
   "source": [
    "balanced['category'] = balanced['label'].apply(lambda x: \"extremist\" if x==1 else \"neutral\")\n",
    "balanced"
   ]
  },
  {
   "cell_type": "code",
   "execution_count": 48,
   "metadata": {},
   "outputs": [],
   "source": [
    "X_train, X_test, y_train, y_test = train_test_split(balanced['text'], balanced['label'], random_state=1, test_size = 0.1)"
   ]
  },
  {
   "cell_type": "code",
   "execution_count": 49,
   "metadata": {},
   "outputs": [
    {
     "data": {
      "text/plain": [
       "237"
      ]
     },
     "execution_count": 49,
     "metadata": {},
     "output_type": "execute_result"
    }
   ],
   "source": [
    "len(X_test)"
   ]
  },
  {
   "cell_type": "code",
   "execution_count": 50,
   "metadata": {},
   "outputs": [],
   "source": [
    "#vectorizer = CountVectorizer(lowercase=True)\n",
    "vectorizer = TfidfVectorizer(lowercase=True)\n",
    "X_train_cv = vectorizer.fit_transform(X_train)\n",
    "X_test_cv = vectorizer.transform(X_test)"
   ]
  },
  {
   "cell_type": "markdown",
   "metadata": {},
   "source": [
    "# MultinomialNB"
   ]
  },
  {
   "cell_type": "code",
   "execution_count": 51,
   "metadata": {},
   "outputs": [
    {
     "name": "stdout",
     "output_type": "stream",
     "text": [
      "Accuracy score: 0.9831223628691983\n",
      "Precision score: 1.0\n",
      "Recall score: 0.9672131147540983\n",
      "F1 score: 0.9833333333333333\n"
     ]
    },
    {
     "data": {
      "text/plain": [
       "Text(238.76, 0.5, 'predicted label')"
      ]
     },
     "execution_count": 51,
     "metadata": {},
     "output_type": "execute_result"
    },
    {
     "data": {
      "image/png": "[encoded data removed]",
      "text/plain": [
       "<Figure size 936x576 with 1 Axes>"
      ]
     },
     "metadata": {},
     "output_type": "display_data"
    }
   ],
   "source": [
    "naive_bayes = MultinomialNB()\n",
    "naive_bayes.fit(X_train_cv, y_train)\n",
    "predictions = naive_bayes.predict(X_test_cv)\n",
    "print('Accuracy score: {}'.format(accuracy_score(y_test, predictions)))\n",
    "print('Precision score: {}'.format(precision_score(y_test, predictions)))\n",
    "print('Recall score: {}'.format(recall_score(y_test, predictions)))\n",
    "print('F1 score: {}'.format(f1_score(y_test, predictions)))\n",
    "\n",
    "sns.heatmap(confusion_matrix(y_test, predictions), square=True, annot=True, cmap='RdBu', cbar=False,\n",
    "xticklabels=['neutral', 'extremist'], yticklabels=['neutral', 'extremist'])\n",
    "plt.xlabel('true label')\n",
    "plt.ylabel('predicted label')"
   ]
  },
  {
   "cell_type": "code",
   "execution_count": 52,
   "metadata": {},
   "outputs": [
    {
     "data": {
      "text/plain": [
       "array([1], dtype=int64)"
      ]
     },
     "execution_count": 52,
     "metadata": {},
     "output_type": "execute_result"
    }
   ],
   "source": [
    "val = vectorizer.transform(['айма олар алла '])\n",
    "naive_bayes.predict(val)"
   ]
  },
  {
   "cell_type": "markdown",
   "metadata": {},
   "source": [
    "# GaussianNB"
   ]
  },
  {
   "cell_type": "code",
   "execution_count": 16,
   "metadata": {},
   "outputs": [
    {
     "name": "stdout",
     "output_type": "stream",
     "text": [
      "Accuracy score: 0.9282700421940928\n",
      "Precision score: 0.9058823529411765\n",
      "Recall score: 0.9585062240663901\n",
      "F1 score: 0.9314516129032259\n"
     ]
    },
    {
     "data": {
      "text/plain": [
       "Text(91.68, 0.5, 'predicted label')"
      ]
     },
     "execution_count": 16,
     "metadata": {},
     "output_type": "execute_result"
    },
    {
     "data": {
      "image/png": "[encoded data removed]",
      "text/plain": [
       "<Figure size 432x288 with 1 Axes>"
      ]
     },
     "metadata": {
      "needs_background": "light"
     },
     "output_type": "display_data"
    }
   ],
   "source": [
    "classifier = GaussianNB()\n",
    "classifier.fit(X_train_cv.toarray(),y_train)\n",
    "#predition\n",
    "pred=classifier.predict(X_test_cv.toarray())\n",
    "from sklearn.metrics import accuracy_score,precision_score,recall_score,f1_score\n",
    "print('Accuracy score: {}'.format(accuracy_score(y_test, pred)))\n",
    "print('Precision score: {}'.format(precision_score(y_test, pred)))\n",
    "print('Recall score: {}'.format(recall_score(y_test, pred)))\n",
    "print('F1 score: {}'.format(f1_score(y_test, pred)))\n",
    "\n",
    "sns.heatmap(confusion_matrix(y_test, pred), square=True, annot=True, cmap='RdBu', cbar=False,\n",
    "xticklabels=['neutral', 'extremist'], yticklabels=['neutral', 'extremist'])\n",
    "plt.xlabel('true label')\n",
    "plt.ylabel('predicted label')"
   ]
  },
  {
   "cell_type": "markdown",
   "metadata": {},
   "source": [
    "# RandomForestClassifier"
   ]
  },
  {
   "cell_type": "code",
   "execution_count": 17,
   "metadata": {},
   "outputs": [
    {
     "name": "stdout",
     "output_type": "stream",
     "text": [
      "Accuracy score: 0.959915611814346\n",
      "Precision score: 0.9911504424778761\n",
      "Recall score: 0.9294605809128631\n",
      "F1 score: 0.9593147751605996\n"
     ]
    },
    {
     "data": {
      "text/plain": [
       "Text(91.68, 0.5, 'predicted label')"
      ]
     },
     "execution_count": 17,
     "metadata": {},
     "output_type": "execute_result"
    },
    {
     "data": {
      "image/png": "[encoded data removed]",
      "text/plain": [
       "<Figure size 432x288 with 1 Axes>"
      ]
     },
     "metadata": {
      "needs_background": "light"
     },
     "output_type": "display_data"
    }
   ],
   "source": [
    "classifier1=RandomForestClassifier(n_estimators=100,criterion='entropy')\n",
    "classifier1.fit(X_train_cv.toarray(),y_train)\n",
    "predRF=classifier1.predict(X_test_cv.toarray())\n",
    "print('Accuracy score: {}'.format(accuracy_score(y_test, predRF)))\n",
    "print('Precision score: {}'.format(precision_score(y_test, predRF)))\n",
    "print('Recall score: {}'.format(recall_score(y_test, predRF)))\n",
    "print('F1 score: {}'.format(f1_score(y_test, predRF)))\n",
    "\n",
    "sns.heatmap(confusion_matrix(y_test, predRF), square=True, annot=True, cmap='RdBu', cbar=False,\n",
    "xticklabels=['neutral', 'extremist'], yticklabels=['neutral', 'extremist'])\n",
    "plt.xlabel('true label')\n",
    "plt.ylabel('predicted label')"
   ]
  },
  {
   "cell_type": "code",
   "execution_count": 18,
   "metadata": {},
   "outputs": [
    {
     "data": {
      "text/plain": [
       "[Text(0, 0, 'MultinomialNB'),\n",
       " Text(0, 0, 'GaussianNB'),\n",
       " Text(0, 0, 'RandomForestClassifier')]"
      ]
     },
     "execution_count": 18,
     "metadata": {},
     "output_type": "execute_result"
    },
    {
     "data": {
      "image/png": "[encoded data removed]",
      "text/plain": [
       "<Figure size 936x576 with 1 Axes>"
      ]
     },
     "metadata": {},
     "output_type": "display_data"
    }
   ],
   "source": [
    "lasted = pd.DataFrame([['MultinomialNB', accuracy_score(y_test, predictions)*100], \n",
    "                       ['GaussianNB', accuracy_score(y_test, pred)*100], \n",
    "                       ['RandomForestClassifier', accuracy_score(y_test, predRF)*100]],\n",
    "                     columns = ['Algorithm', 'Accuracy score'])\n",
    "sns.set(rc={'figure.figsize':(13,8)})\n",
    "g = sns.barplot(x=\"Algorithm\", y=\"Accuracy score\", data=lasted)\n",
    "g.set_xticklabels(g.get_xticklabels(), rotation=30)"
   ]
  },
  {
   "cell_type": "code",
   "execution_count": null,
   "metadata": {},
   "outputs": [],
   "source": []
  }
 ],
 "metadata": {
  "kernelspec": {
   "display_name": "Python 3",
   "language": "python",
   "name": "python3"
  },
  "language_info": {
   "codemirror_mode": {
    "name": "ipython",
    "version": 3
   },
   "file_extension": ".py",
   "mimetype": "text/x-python",
   "name": "python",
   "nbconvert_exporter": "python",
   "pygments_lexer": "ipython3",
   "version": "3.6.5"
  }
 },
 "nbformat": 4,
 "nbformat_minor": 2
}
