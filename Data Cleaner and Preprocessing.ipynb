{
 "cells": [
  {
   "cell_type": "markdown",
   "metadata": {},
   "source": [
    "# Import"
   ]
  },
  {
   "cell_type": "code",
   "execution_count": 1,
   "metadata": {},
   "outputs": [],
   "source": [
    "import pandas as pd\n",
    "import numpy as np\n",
    "\n",
    "import nltk\n",
    "import re, codecs"
   ]
  },
  {
   "cell_type": "markdown",
   "metadata": {},
   "source": [
    "# Stemming functions, but don't use in python, because python works slowly. For this task you have to use GOlang"
   ]
  },
  {
   "cell_type": "code",
   "execution_count": 2,
   "metadata": {},
   "outputs": [],
   "source": [
    "#проверка\n",
    "def comparison(word1, word2):\n",
    "    length = len(word2) if len(word1) > len(word2) else len(word1)\n",
    "    result = ''\n",
    "    for i in range(length):\n",
    "        if(word1[i] == word2[i]):\n",
    "            result = result + word1[i]\n",
    "        else:\n",
    "            break\n",
    "    return result\n",
    "#простой стемминг\n",
    "def stemming_kazakh(docin, doc):\n",
    "    alldocin = docin.split(' ')\n",
    "    docin = doc.split(' ')\n",
    "    result = []\n",
    "    for i in range(len(alldocin)):\n",
    "        for j in range(len(docin)):\n",
    "            s = comparison(alldocin[i], docin[j])\n",
    "            if(len(s) > 3):\n",
    "                docin[j] = s\n",
    "    \n",
    "    return \" \".join(str(x) for x in docin)\n",
    "#стемминг для всего документов\n",
    "def clean_all_datas(data_list):\n",
    "    merged = ' '.join(data_list[:100])\n",
    "    cleaned = []\n",
    "    iter = 1\n",
    "    length = len(data_list)\n",
    "    for i in data_list:\n",
    "        cleaned.append(stemming_kazakh(merged, i))\n",
    "        print(iter,'/',length)\n",
    "        iter += 1\n",
    "    return cleaned\n",
    "#очистка от ненужный(шумных) символов\n",
    "def cleaning_data(code_data):\n",
    "    text = code_data.text.tolist()\n",
    "    label = code_data.label.tolist()\n",
    "    sentences = []\n",
    "    for line in range(len(text)):\n",
    "        pre = re.sub(r'http\\S+', '', str(text[line])).replace(r'<a href=\"', '')\n",
    "        stripped = re.sub('[^a-zA-Z, ^А-Я,а-я,Ә,І,Ң,Ғ,Ү,Ұ,Қ,Ө,Һ,ә,і,ə,ң,ғ,ү,ұ,қ,ө,һ]', ' ', pre.replace('-', ''))\n",
    "        stripped = re.sub('_', '', stripped)\n",
    "        stripped = re.sub('\\s+', ' ', stripped)\n",
    "        sentences.append([str(stripped).lower(), int(label[line])])\n",
    "    return pd.DataFrame(sentences, columns = ['text', 'label'])\n",
    "#используем документы в которых больше 3 слов\n",
    "def more_three(df):\n",
    "    text = df.text.tolist()\n",
    "    label = df.label.tolist()\n",
    "    new_df = []\n",
    "    for i in range(len(text)):\n",
    "        if(len(text[i].split(' ')) > 5):\n",
    "            new_df.append([text[i], label[i]])\n",
    "        \n",
    "    return pd.DataFrame(new_df, columns = [\"text\", \"label\"])"
   ]
  },
  {
   "cell_type": "markdown",
   "metadata": {},
   "source": [
    "# Reading raw text and Writing clean text"
   ]
  },
  {
   "cell_type": "code",
   "execution_count": 3,
   "metadata": {},
   "outputs": [
    {
     "data": {
      "text/html": [
       "<div>\n",
       "<style scoped>\n",
       "    .dataframe tbody tr th:only-of-type {\n",
       "        vertical-align: middle;\n",
       "    }\n",
       "\n",
       "    .dataframe tbody tr th {\n",
       "        vertical-align: top;\n",
       "    }\n",
       "\n",
       "    .dataframe thead th {\n",
       "        text-align: right;\n",
       "    }\n",
       "</style>\n",
       "<table border=\"1\" class=\"dataframe\">\n",
       "  <thead>\n",
       "    <tr style=\"text-align: right;\">\n",
       "      <th></th>\n",
       "      <th>text</th>\n",
       "      <th>label</th>\n",
       "    </tr>\n",
       "  </thead>\n",
       "  <tbody>\n",
       "    <tr>\n",
       "      <th>0</th>\n",
       "      <td>Лива Туввар Сирия АлЛажатта # IslamState-қа қа...</td>\n",
       "      <td>1</td>\n",
       "    </tr>\n",
       "    <tr>\n",
       "      <th>1</th>\n",
       "      <td>террористік иттер бүлікшілерге айналады! #Tur...</td>\n",
       "      <td>1</td>\n",
       "    </tr>\n",
       "    <tr>\n",
       "      <th>2</th>\n",
       "      <td>Әл-Хайрдың Газваты 13 арнайы аймақ. Олардан ке...</td>\n",
       "      <td>1</td>\n",
       "    </tr>\n",
       "    <tr>\n",
       "      <th>3</th>\n",
       "      <td>Сирия-дағы # Ресей | n 'басып кіру' туралы ала...</td>\n",
       "      <td>1</td>\n",
       "    </tr>\n",
       "    <tr>\n",
       "      <th>4</th>\n",
       "      <td>Ядролық соғыс соғысы келе жатыр !!! &lt;a href=\"h...</td>\n",
       "      <td>1</td>\n",
       "    </tr>\n",
       "    <tr>\n",
       "      <th>...</th>\n",
       "      <td>...</td>\n",
       "      <td>...</td>\n",
       "    </tr>\n",
       "    <tr>\n",
       "      <th>49523</th>\n",
       "      <td>Жақсы өмір сүруге тыйым сала алмайсын😃</td>\n",
       "      <td>2</td>\n",
       "    </tr>\n",
       "    <tr>\n",
       "      <th>49524</th>\n",
       "      <td>91 дің концертіне жиналған иглздар😆</td>\n",
       "      <td>2</td>\n",
       "    </tr>\n",
       "    <tr>\n",
       "      <th>49525</th>\n",
       "      <td>Панданың қалай пайда болғанын енді түсіндім......</td>\n",
       "      <td>2</td>\n",
       "    </tr>\n",
       "    <tr>\n",
       "      <th>49526</th>\n",
       "      <td>Мүбәрәк болсын Жұмаңыз☝, Қабыл болсын дұғаңыз🙏...</td>\n",
       "      <td>2</td>\n",
       "    </tr>\n",
       "    <tr>\n",
       "      <th>49527</th>\n",
       "      <td>Кез келген Қасқырыңды шақыр айрамын😄</td>\n",
       "      <td>2</td>\n",
       "    </tr>\n",
       "  </tbody>\n",
       "</table>\n",
       "<p>49528 rows × 2 columns</p>\n",
       "</div>"
      ],
      "text/plain": [
       "                                                    text  label\n",
       "0      Лива Туввар Сирия АлЛажатта # IslamState-қа қа...      1\n",
       "1       террористік иттер бүлікшілерге айналады! #Tur...      1\n",
       "2      Әл-Хайрдың Газваты 13 арнайы аймақ. Олардан ке...      1\n",
       "3      Сирия-дағы # Ресей | n 'басып кіру' туралы ала...      1\n",
       "4      Ядролық соғыс соғысы келе жатыр !!! <a href=\"h...      1\n",
       "...                                                  ...    ...\n",
       "49523             Жақсы өмір сүруге тыйым сала алмайсын😃      2\n",
       "49524                91 дің концертіне жиналған иглздар😆      2\n",
       "49525  Панданың қалай пайда болғанын енді түсіндім......      2\n",
       "49526  Мүбәрәк болсын Жұмаңыз☝, Қабыл болсын дұғаңыз🙏...      2\n",
       "49527               Кез келген Қасқырыңды шақыр айрамын😄      2\n",
       "\n",
       "[49528 rows x 2 columns]"
      ]
     },
     "execution_count": 3,
     "metadata": {},
     "output_type": "execute_result"
    }
   ],
   "source": [
    "df = pd.read_csv('Corpus/big_corpus.csv')\n",
    "df"
   ]
  },
  {
   "cell_type": "code",
   "execution_count": 4,
   "metadata": {},
   "outputs": [
    {
     "data": {
      "text/html": [
       "<div>\n",
       "<style scoped>\n",
       "    .dataframe tbody tr th:only-of-type {\n",
       "        vertical-align: middle;\n",
       "    }\n",
       "\n",
       "    .dataframe tbody tr th {\n",
       "        vertical-align: top;\n",
       "    }\n",
       "\n",
       "    .dataframe thead th {\n",
       "        text-align: right;\n",
       "    }\n",
       "</style>\n",
       "<table border=\"1\" class=\"dataframe\">\n",
       "  <thead>\n",
       "    <tr style=\"text-align: right;\">\n",
       "      <th></th>\n",
       "      <th>text</th>\n",
       "      <th>label</th>\n",
       "    </tr>\n",
       "  </thead>\n",
       "  <tbody>\n",
       "    <tr>\n",
       "      <th>0</th>\n",
       "      <td>лива туввар сирия аллажатта islamstateқа қарсы...</td>\n",
       "      <td>1</td>\n",
       "    </tr>\n",
       "    <tr>\n",
       "      <th>1</th>\n",
       "      <td>террористік иттер бүлікшілерге айналады turke...</td>\n",
       "      <td>1</td>\n",
       "    </tr>\n",
       "    <tr>\n",
       "      <th>2</th>\n",
       "      <td>әлхайрдың газваты арнайы аймақ олардан кейін о...</td>\n",
       "      <td>1</td>\n",
       "    </tr>\n",
       "    <tr>\n",
       "      <th>3</th>\n",
       "      <td>сириядағы ресей n басып кіру туралы алаңдамауд...</td>\n",
       "      <td>1</td>\n",
       "    </tr>\n",
       "    <tr>\n",
       "      <th>4</th>\n",
       "      <td>ядролық соғыс соғысы келе жатыр</td>\n",
       "      <td>1</td>\n",
       "    </tr>\n",
       "    <tr>\n",
       "      <th>...</th>\n",
       "      <td>...</td>\n",
       "      <td>...</td>\n",
       "    </tr>\n",
       "    <tr>\n",
       "      <th>45387</th>\n",
       "      <td>жақсы өмір сүруге тыйым сала алмайсын</td>\n",
       "      <td>2</td>\n",
       "    </tr>\n",
       "    <tr>\n",
       "      <th>45388</th>\n",
       "      <td>дің концертіне жиналған иглздар</td>\n",
       "      <td>2</td>\n",
       "    </tr>\n",
       "    <tr>\n",
       "      <th>45389</th>\n",
       "      <td>панданың қалай пайда болғанын енді түсіндім</td>\n",
       "      <td>2</td>\n",
       "    </tr>\n",
       "    <tr>\n",
       "      <th>45390</th>\n",
       "      <td>мүбәрәк болсын жұмаңыз , қабыл болсын дұғаңыз ...</td>\n",
       "      <td>2</td>\n",
       "    </tr>\n",
       "    <tr>\n",
       "      <th>45391</th>\n",
       "      <td>кез келген қасқырыңды шақыр айрамын</td>\n",
       "      <td>2</td>\n",
       "    </tr>\n",
       "  </tbody>\n",
       "</table>\n",
       "<p>45392 rows × 2 columns</p>\n",
       "</div>"
      ],
      "text/plain": [
       "                                                    text  label\n",
       "0      лива туввар сирия аллажатта islamstateқа қарсы...      1\n",
       "1       террористік иттер бүлікшілерге айналады turke...      1\n",
       "2      әлхайрдың газваты арнайы аймақ олардан кейін о...      1\n",
       "3      сириядағы ресей n басып кіру туралы алаңдамауд...      1\n",
       "4                       ядролық соғыс соғысы келе жатыр       1\n",
       "...                                                  ...    ...\n",
       "45387             жақсы өмір сүруге тыйым сала алмайсын       2\n",
       "45388                   дің концертіне жиналған иглздар       2\n",
       "45389       панданың қалай пайда болғанын енді түсіндім       2\n",
       "45390  мүбәрәк болсын жұмаңыз , қабыл болсын дұғаңыз ...      2\n",
       "45391               кез келген қасқырыңды шақыр айрамын       2\n",
       "\n",
       "[45392 rows x 2 columns]"
      ]
     },
     "execution_count": 4,
     "metadata": {},
     "output_type": "execute_result"
    }
   ],
   "source": [
    "df = cleaning_data(df)\n",
    "df = more_three(df)\n",
    "df['text'] = df['text'].astype(str)\n",
    "df['label'] = pd.to_numeric(df['label'])\n",
    "df.to_csv('Corpus/big_corpus_cleaned.csv', index = False)\n",
    "df"
   ]
  },
  {
   "cell_type": "code",
   "execution_count": 5,
   "metadata": {},
   "outputs": [
    {
     "name": "stdout",
     "output_type": "stream",
     "text": [
      "36734\n",
      "1794\n",
      "6864\n"
     ]
    }
   ],
   "source": [
    "print(len(df.loc[df['label'] == 0].text))\n",
    "print(len(df.loc[df['label'] == 1].text))\n",
    "print(len(df.loc[df['label'] == 2].text))"
   ]
  },
  {
   "cell_type": "markdown",
   "metadata": {},
   "source": [
    "# Getting unique words"
   ]
  },
  {
   "cell_type": "code",
   "execution_count": 18,
   "metadata": {},
   "outputs": [
    {
     "name": "stdout",
     "output_type": "stream",
     "text": [
      "176539\n"
     ]
    },
    {
     "data": {
      "text/plain": [
       "['',\n",
       " 'сақтандырушы',\n",
       " 'елшіліктің',\n",
       " 'колдану',\n",
       " 'клубтан',\n",
       " 'дүп',\n",
       " 'өзгертетін',\n",
       " 'оқырманның',\n",
       " 'бiлуi',\n",
       " 'жыбырлап']"
      ]
     },
     "execution_count": 18,
     "metadata": {},
     "output_type": "execute_result"
    }
   ],
   "source": [
    "docses = \" \".join(df.text.tolist())\n",
    "docses = re.sub('\\s+', ' ', docses)\n",
    "docses = list(set(docses.split(\" \")))\n",
    "pd.DataFrame(docses, columns = [\"unique\"]).to_csv(\"Corpus/big_unique_cleaned_words.csv\", index=False)\n",
    "print(len(docses))\n",
    "docses[:10]"
   ]
  },
  {
   "cell_type": "code",
   "execution_count": 21,
   "metadata": {},
   "outputs": [],
   "source": [
    "def stemming_unique(doc1, doc2):\n",
    "    length1 = len(doc1)\n",
    "    for i in range(0, length1):\n",
    "        print(i, '/', length1)\n",
    "        for j in range(i, len(doc2)):\n",
    "            s = comparison(doc1[i], doc2[j])\n",
    "            if(len(s) > 5):\n",
    "                doc2[j] = s\n",
    "    \n",
    "    return list(set(doc2))"
   ]
  },
  {
   "cell_type": "raw",
   "metadata": {},
   "source": [
    "unique_stem = stemming_unique(docses, docses)"
   ]
  },
  {
   "cell_type": "raw",
   "metadata": {},
   "source": [
    "print(len(unique_stem))"
   ]
  },
  {
   "cell_type": "code",
   "execution_count": null,
   "metadata": {},
   "outputs": [],
   "source": []
  },
  {
   "cell_type": "markdown",
   "metadata": {},
   "source": [
    "# There is have to run GOlang script in stemming_fast_process"
   ]
  },
  {
   "cell_type": "raw",
   "metadata": {},
   "source": []
  },
  {
   "cell_type": "markdown",
   "metadata": {},
   "source": [
    "# Reading after you've got Golang script's result"
   ]
  },
  {
   "cell_type": "code",
   "execution_count": null,
   "metadata": {},
   "outputs": [],
   "source": [
    "df = pd.read_csv('Corpus/big_corpus_stemmed.csv')\n",
    "df = cleaning_data(df)\n",
    "df['text'] = df['text'].astype(str)\n",
    "df['label'] = pd.to_numeric(df['label'])\n",
    "df"
   ]
  },
  {
   "cell_type": "code",
   "execution_count": null,
   "metadata": {},
   "outputs": [],
   "source": [
    "df = more_three(df)\n",
    "df.to_csv(\"Corpus/corpus_stemmed_more3.csv\", index = False)\n",
    "df"
   ]
  },
  {
   "cell_type": "markdown",
   "metadata": {},
   "source": [
    "# End"
   ]
  }
 ],
 "metadata": {
  "kernelspec": {
   "display_name": "Python 3",
   "language": "python",
   "name": "python3"
  },
  "language_info": {
   "codemirror_mode": {
    "name": "ipython",
    "version": 3
   },
   "file_extension": ".py",
   "mimetype": "text/x-python",
   "name": "python",
   "nbconvert_exporter": "python",
   "pygments_lexer": "ipython3",
   "version": "3.6.5"
  }
 },
 "nbformat": 4,
 "nbformat_minor": 2
}
