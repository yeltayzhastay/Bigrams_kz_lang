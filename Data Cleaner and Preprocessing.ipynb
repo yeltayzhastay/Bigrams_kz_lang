{
 "cells": [
  {
   "cell_type": "markdown",
   "metadata": {},
   "source": [
    "# Import"
   ]
  },
  {
   "cell_type": "code",
   "execution_count": 1,
   "metadata": {},
   "outputs": [],
   "source": [
    "import pandas as pd\n",
    "import numpy as np\n",
    "\n",
    "import nltk\n",
    "import re, codecs"
   ]
  },
  {
   "cell_type": "markdown",
   "metadata": {},
   "source": [
    "# Stemming functions, but don't use in python, because python works slowly. For this task you have to use GOlang\n",
    "\n",
    "\n",
    "    '''\n",
    "    text = text.str.replace('(<br/>)', '')\n",
    "    text = text.str.replace('(<a).*(>).*(</a>)', '')\n",
    "    text = text.str.replace('(&amp)', '')\n",
    "    text = text.str.replace('(&gt)', '')\n",
    "    text = text.str.replace('(&lt)', '')\n",
    "    text = text.str.replace('(\\xa0)', ' ')\n",
    "    '''"
   ]
  },
  {
   "cell_type": "code",
   "execution_count": 59,
   "metadata": {},
   "outputs": [],
   "source": [
    "#проверка\n",
    "def comparison(word1, word2):\n",
    "    length = len(word2) if len(word1) > len(word2) else len(word1)\n",
    "    result = ''\n",
    "    for i in range(length):\n",
    "        if(word1[i] == word2[i]):\n",
    "            result = result + word1[i]\n",
    "        else:\n",
    "            break\n",
    "    return result\n",
    "#простой стемминг\n",
    "def stemming_kazakh(docin, doc):\n",
    "    alldocin = docin.split(' ')\n",
    "    docin = doc.split(' ')\n",
    "    result = []\n",
    "    for i in range(len(alldocin)):\n",
    "        for j in range(len(docin)):\n",
    "            s = comparison(alldocin[i], docin[j])\n",
    "            if(len(s) > 3):\n",
    "                docin[j] = s\n",
    "    \n",
    "    return \" \".join(str(x) for x in docin)\n",
    "#стемминг для всего документов\n",
    "def clean_all_datas(data_list):\n",
    "    merged = ' '.join(data_list[:100])\n",
    "    cleaned = []\n",
    "    iter = 1\n",
    "    length = len(data_list)\n",
    "    for i in data_list:\n",
    "        cleaned.append(stemming_kazakh(merged, i))\n",
    "        print(iter,'/',length)\n",
    "        iter += 1\n",
    "    return cleaned\n",
    "#очистка от ненужный(шумных) символов\n",
    "def cleaning_data(code_data):\n",
    "    text = code_data.text\n",
    "    text = text.str.replace('(<br/>)', '')\n",
    "    text = text.str.replace('(<a).*(>).*(</a>)', '')\n",
    "    text = text.str.replace('(&amp)', '')\n",
    "    text = text.str.replace('(&gt)', '')\n",
    "    text = text.str.replace('(&lt)', '')\n",
    "    text = text.str.replace('(\\xa0)', ' ')\n",
    "    print(len(text))\n",
    "    text = text.apply(filtering)\n",
    "    print(len(text))\n",
    "    #label = code_data.label.tolist()\n",
    "    \n",
    "    code_data.text = text \n",
    "    return code_data\n",
    "    #return pd.DataFrame((text,label), columns = ['text', 'label'])\n",
    "\n",
    "def filtering(text):\n",
    "    stripped = re.sub('[^a-zA-Z, ^А-Я,а-я,Ә,І,Ң,Ғ,Ү,Ұ,Қ,Ө,Һ,ә,і,ə,ң,ғ,ү,ұ,қ,ө,һ]', ' ', str(text).replace('-', ''))\n",
    "    stripped = re.sub('_', '', stripped)\n",
    "    stripped = re.sub('\\s+', ' ', stripped)\n",
    "    return str(stripped).lower()\n",
    "\n",
    "#используем документы в которых больше 3 слов\n",
    "def more_three(df):\n",
    "    text = df.text.tolist()\n",
    "    label = df.label.tolist()\n",
    "    new_df = []\n",
    "    for i in range(len(text)):\n",
    "        if(len(text[i].split(' ')) > 5):\n",
    "            new_df.append([text[i], label[i]])\n",
    "        \n",
    "    return pd.DataFrame(new_df, columns = [\"text\", \"label\"])"
   ]
  },
  {
   "cell_type": "markdown",
   "metadata": {},
   "source": [
    "# Reading raw text and Writing clean text"
   ]
  },
  {
   "cell_type": "code",
   "execution_count": 63,
   "metadata": {},
   "outputs": [
    {
     "data": {
      "text/html": [
       "<div>\n",
       "<style scoped>\n",
       "    .dataframe tbody tr th:only-of-type {\n",
       "        vertical-align: middle;\n",
       "    }\n",
       "\n",
       "    .dataframe tbody tr th {\n",
       "        vertical-align: top;\n",
       "    }\n",
       "\n",
       "    .dataframe thead th {\n",
       "        text-align: right;\n",
       "    }\n",
       "</style>\n",
       "<table border=\"1\" class=\"dataframe\">\n",
       "  <thead>\n",
       "    <tr style=\"text-align: right;\">\n",
       "      <th></th>\n",
       "      <th>text</th>\n",
       "      <th>label</th>\n",
       "    </tr>\n",
       "  </thead>\n",
       "  <tbody>\n",
       "    <tr>\n",
       "      <th>0</th>\n",
       "      <td>Лива Туввар Сирия АлЛажатта # IslamState-қа қа...</td>\n",
       "      <td>1</td>\n",
       "    </tr>\n",
       "    <tr>\n",
       "      <th>1</th>\n",
       "      <td>террористік иттер бүлікшілерге айналады! #Tur...</td>\n",
       "      <td>1</td>\n",
       "    </tr>\n",
       "    <tr>\n",
       "      <th>2</th>\n",
       "      <td>Әл-Хайрдың Газваты 13 арнайы аймақ. Олардан ке...</td>\n",
       "      <td>1</td>\n",
       "    </tr>\n",
       "    <tr>\n",
       "      <th>3</th>\n",
       "      <td>Сирия-дағы # Ресей | n 'басып кіру' туралы ала...</td>\n",
       "      <td>1</td>\n",
       "    </tr>\n",
       "    <tr>\n",
       "      <th>4</th>\n",
       "      <td>Ядролық соғыс соғысы келе жатыр !!! &lt;a href=\"h...</td>\n",
       "      <td>1</td>\n",
       "    </tr>\n",
       "    <tr>\n",
       "      <th>...</th>\n",
       "      <td>...</td>\n",
       "      <td>...</td>\n",
       "    </tr>\n",
       "    <tr>\n",
       "      <th>42384</th>\n",
       "      <td>90. Әл-Мааниғ – Тыйым салушы, Тоқтатушы.</td>\n",
       "      <td>0</td>\n",
       "    </tr>\n",
       "    <tr>\n",
       "      <th>42385</th>\n",
       "      <td>93. Ән-Нуур – Нұр Иесі, нұрландырушы.</td>\n",
       "      <td>0</td>\n",
       "    </tr>\n",
       "    <tr>\n",
       "      <th>42386</th>\n",
       "      <td>98. Ар-Рашиид – Туралыққа Нұсқаушы.</td>\n",
       "      <td>0</td>\n",
       "    </tr>\n",
       "    <tr>\n",
       "      <th>42387</th>\n",
       "      <td>99. Ас-Сабуур – Аса сабырлы. [club169899386|@q...</td>\n",
       "      <td>0</td>\n",
       "    </tr>\n",
       "    <tr>\n",
       "      <th>42388</th>\n",
       "      <td>Алла Тағала. Аса Рақымды, ерекше Мейірімді Алл...</td>\n",
       "      <td>0</td>\n",
       "    </tr>\n",
       "  </tbody>\n",
       "</table>\n",
       "<p>42389 rows × 2 columns</p>\n",
       "</div>"
      ],
      "text/plain": [
       "                                                    text  label\n",
       "0      Лива Туввар Сирия АлЛажатта # IslamState-қа қа...      1\n",
       "1       террористік иттер бүлікшілерге айналады! #Tur...      1\n",
       "2      Әл-Хайрдың Газваты 13 арнайы аймақ. Олардан ке...      1\n",
       "3      Сирия-дағы # Ресей | n 'басып кіру' туралы ала...      1\n",
       "4      Ядролық соғыс соғысы келе жатыр !!! <a href=\"h...      1\n",
       "...                                                  ...    ...\n",
       "42384           90. Әл-Мааниғ – Тыйым салушы, Тоқтатушы.      0\n",
       "42385              93. Ән-Нуур – Нұр Иесі, нұрландырушы.      0\n",
       "42386               98. Ар-Рашиид – Туралыққа Нұсқаушы.       0\n",
       "42387  99. Ас-Сабуур – Аса сабырлы. [club169899386|@q...      0\n",
       "42388  Алла Тағала. Аса Рақымды, ерекше Мейірімді Алл...      0\n",
       "\n",
       "[42389 rows x 2 columns]"
      ]
     },
     "execution_count": 63,
     "metadata": {},
     "output_type": "execute_result"
    }
   ],
   "source": [
    "df = pd.read_csv('Corpus/corpus.csv')\n",
    "df = df[(df.label == 0) | (df.label == 1)]\n",
    "df"
   ]
  },
  {
   "cell_type": "raw",
   "metadata": {},
   "source": [
    "df['text_len'] = df['text'].astype(str).apply(len)\n",
    "df['word_count'] = df['text'].apply(lambda x: len(str(x).split()))\n",
    "df"
   ]
  },
  {
   "cell_type": "raw",
   "metadata": {},
   "source": [
    "df[df.text_len > 4000]"
   ]
  },
  {
   "cell_type": "code",
   "execution_count": 64,
   "metadata": {},
   "outputs": [
    {
     "name": "stdout",
     "output_type": "stream",
     "text": [
      "42389\n",
      "42389\n"
     ]
    },
    {
     "data": {
      "text/html": [
       "<div>\n",
       "<style scoped>\n",
       "    .dataframe tbody tr th:only-of-type {\n",
       "        vertical-align: middle;\n",
       "    }\n",
       "\n",
       "    .dataframe tbody tr th {\n",
       "        vertical-align: top;\n",
       "    }\n",
       "\n",
       "    .dataframe thead th {\n",
       "        text-align: right;\n",
       "    }\n",
       "</style>\n",
       "<table border=\"1\" class=\"dataframe\">\n",
       "  <thead>\n",
       "    <tr style=\"text-align: right;\">\n",
       "      <th></th>\n",
       "      <th>text</th>\n",
       "      <th>label</th>\n",
       "    </tr>\n",
       "  </thead>\n",
       "  <tbody>\n",
       "    <tr>\n",
       "      <th>0</th>\n",
       "      <td>лива туввар сирия аллажатта islamstateқа қарсы...</td>\n",
       "      <td>1</td>\n",
       "    </tr>\n",
       "    <tr>\n",
       "      <th>1</th>\n",
       "      <td>террористік иттер бүлікшілерге айналады turke...</td>\n",
       "      <td>1</td>\n",
       "    </tr>\n",
       "    <tr>\n",
       "      <th>2</th>\n",
       "      <td>әлхайрдың газваты арнайы аймақ олардан кейін о...</td>\n",
       "      <td>1</td>\n",
       "    </tr>\n",
       "    <tr>\n",
       "      <th>3</th>\n",
       "      <td>сириядағы ресей n басып кіру туралы алаңдамауд...</td>\n",
       "      <td>1</td>\n",
       "    </tr>\n",
       "    <tr>\n",
       "      <th>4</th>\n",
       "      <td>ядролық соғыс соғысы келе жатыр</td>\n",
       "      <td>1</td>\n",
       "    </tr>\n",
       "    <tr>\n",
       "      <th>...</th>\n",
       "      <td>...</td>\n",
       "      <td>...</td>\n",
       "    </tr>\n",
       "    <tr>\n",
       "      <th>42384</th>\n",
       "      <td>әлмааниғ тыйым салушы, тоқтатушы</td>\n",
       "      <td>0</td>\n",
       "    </tr>\n",
       "    <tr>\n",
       "      <th>42385</th>\n",
       "      <td>әннуур нұр иесі, нұрландырушы</td>\n",
       "      <td>0</td>\n",
       "    </tr>\n",
       "    <tr>\n",
       "      <th>42386</th>\n",
       "      <td>аррашиид туралыққа нұсқаушы</td>\n",
       "      <td>0</td>\n",
       "    </tr>\n",
       "    <tr>\n",
       "      <th>42387</th>\n",
       "      <td>ассабуур аса сабырлы club qissa angimeler</td>\n",
       "      <td>0</td>\n",
       "    </tr>\n",
       "    <tr>\n",
       "      <th>42388</th>\n",
       "      <td>алла тағала аса рақымды, ерекше мейірімді алла...</td>\n",
       "      <td>0</td>\n",
       "    </tr>\n",
       "  </tbody>\n",
       "</table>\n",
       "<p>42389 rows × 2 columns</p>\n",
       "</div>"
      ],
      "text/plain": [
       "                                                    text  label\n",
       "0      лива туввар сирия аллажатта islamstateқа қарсы...      1\n",
       "1       террористік иттер бүлікшілерге айналады turke...      1\n",
       "2      әлхайрдың газваты арнайы аймақ олардан кейін о...      1\n",
       "3      сириядағы ресей n басып кіру туралы алаңдамауд...      1\n",
       "4                       ядролық соғыс соғысы келе жатыр       1\n",
       "...                                                  ...    ...\n",
       "42384                  әлмааниғ тыйым салушы, тоқтатушы       0\n",
       "42385                     әннуур нұр иесі, нұрландырушы       0\n",
       "42386                       аррашиид туралыққа нұсқаушы       0\n",
       "42387         ассабуур аса сабырлы club qissa angimeler       0\n",
       "42388  алла тағала аса рақымды, ерекше мейірімді алла...      0\n",
       "\n",
       "[42389 rows x 2 columns]"
      ]
     },
     "execution_count": 64,
     "metadata": {},
     "output_type": "execute_result"
    }
   ],
   "source": [
    "df = cleaning_data(df)\n",
    "df['text'] = df['text'].astype(str)\n",
    "df['label'] = pd.to_numeric(df['label'])\n",
    "df = df[(df.label == 1) | (df.label == 0)]\n",
    "df.to_csv('Corpus/big_corpus_cleaned_26.07.2020.csv', index = False)\n",
    "df"
   ]
  },
  {
   "cell_type": "code",
   "execution_count": 17,
   "metadata": {},
   "outputs": [
    {
     "data": {
      "text/html": [
       "<div>\n",
       "<style scoped>\n",
       "    .dataframe tbody tr th:only-of-type {\n",
       "        vertical-align: middle;\n",
       "    }\n",
       "\n",
       "    .dataframe tbody tr th {\n",
       "        vertical-align: top;\n",
       "    }\n",
       "\n",
       "    .dataframe thead th {\n",
       "        text-align: right;\n",
       "    }\n",
       "</style>\n",
       "<table border=\"1\" class=\"dataframe\">\n",
       "  <thead>\n",
       "    <tr style=\"text-align: right;\">\n",
       "      <th></th>\n",
       "      <th>text</th>\n",
       "      <th>label</th>\n",
       "    </tr>\n",
       "  </thead>\n",
       "  <tbody>\n",
       "    <tr>\n",
       "      <th>0</th>\n",
       "      <td>лива туввар сирия аллажатта islamstateқа қарсы...</td>\n",
       "      <td>1</td>\n",
       "    </tr>\n",
       "    <tr>\n",
       "      <th>1</th>\n",
       "      <td>террористік иттер бүлікшілерге айналады turke...</td>\n",
       "      <td>1</td>\n",
       "    </tr>\n",
       "    <tr>\n",
       "      <th>2</th>\n",
       "      <td>әлхайрдың газваты арнайы аймақ олардан кейін о...</td>\n",
       "      <td>1</td>\n",
       "    </tr>\n",
       "    <tr>\n",
       "      <th>3</th>\n",
       "      <td>сириядағы ресей n басып кіру туралы алаңдамауд...</td>\n",
       "      <td>1</td>\n",
       "    </tr>\n",
       "    <tr>\n",
       "      <th>4</th>\n",
       "      <td>ядролық соғыс соғысы келе жатыр</td>\n",
       "      <td>1</td>\n",
       "    </tr>\n",
       "    <tr>\n",
       "      <th>...</th>\n",
       "      <td>...</td>\n",
       "      <td>...</td>\n",
       "    </tr>\n",
       "    <tr>\n",
       "      <th>38523</th>\n",
       "      <td>әлғаний бай, ештеңеге мұқтаж емес</td>\n",
       "      <td>0</td>\n",
       "    </tr>\n",
       "    <tr>\n",
       "      <th>38524</th>\n",
       "      <td>әлмааниғ тыйым салушы, тоқтатушы</td>\n",
       "      <td>0</td>\n",
       "    </tr>\n",
       "    <tr>\n",
       "      <th>38525</th>\n",
       "      <td>әннуур нұр иесі, нұрландырушы</td>\n",
       "      <td>0</td>\n",
       "    </tr>\n",
       "    <tr>\n",
       "      <th>38526</th>\n",
       "      <td>ассабуур аса сабырлы club qissa angimeler</td>\n",
       "      <td>0</td>\n",
       "    </tr>\n",
       "    <tr>\n",
       "      <th>38527</th>\n",
       "      <td>алла тағала аса рақымды, ерекше мейірімді алла...</td>\n",
       "      <td>0</td>\n",
       "    </tr>\n",
       "  </tbody>\n",
       "</table>\n",
       "<p>38528 rows × 2 columns</p>\n",
       "</div>"
      ],
      "text/plain": [
       "                                                    text  label\n",
       "0      лива туввар сирия аллажатта islamstateқа қарсы...      1\n",
       "1       террористік иттер бүлікшілерге айналады turke...      1\n",
       "2      әлхайрдың газваты арнайы аймақ олардан кейін о...      1\n",
       "3      сириядағы ресей n басып кіру туралы алаңдамауд...      1\n",
       "4                       ядролық соғыс соғысы келе жатыр       1\n",
       "...                                                  ...    ...\n",
       "38523                 әлғаний бай, ештеңеге мұқтаж емес       0\n",
       "38524                  әлмааниғ тыйым салушы, тоқтатушы       0\n",
       "38525                     әннуур нұр иесі, нұрландырушы       0\n",
       "38526         ассабуур аса сабырлы club qissa angimeler       0\n",
       "38527  алла тағала аса рақымды, ерекше мейірімді алла...      0\n",
       "\n",
       "[38528 rows x 2 columns]"
      ]
     },
     "execution_count": 17,
     "metadata": {},
     "output_type": "execute_result"
    }
   ],
   "source": [
    "df = cleaning_data(df)\n",
    "df = more_three(df)\n",
    "df['text'] = df['text'].astype(str)\n",
    "df['label'] = pd.to_numeric(df['label'])\n",
    "df = df[(df.label == 1) | (df.label == 0)]\n",
    "df.to_csv('Corpus/big_corpus_cleaned_26.07.2020.csv', index = False)\n",
    "df"
   ]
  },
  {
   "cell_type": "code",
   "execution_count": 5,
   "metadata": {},
   "outputs": [
    {
     "name": "stdout",
     "output_type": "stream",
     "text": [
      "36734\n",
      "1794\n",
      "6864\n"
     ]
    }
   ],
   "source": [
    "print(len(df.loc[df['label'] == 0].text))\n",
    "print(len(df.loc[df['label'] == 1].text))\n",
    "print(len(df.loc[df['label'] == 2].text))"
   ]
  },
  {
   "cell_type": "markdown",
   "metadata": {},
   "source": [
    "# Getting unique words"
   ]
  },
  {
   "cell_type": "code",
   "execution_count": 18,
   "metadata": {},
   "outputs": [
    {
     "name": "stdout",
     "output_type": "stream",
     "text": [
      "176539\n"
     ]
    },
    {
     "data": {
      "text/plain": [
       "['',\n",
       " 'сақтандырушы',\n",
       " 'елшіліктің',\n",
       " 'колдану',\n",
       " 'клубтан',\n",
       " 'дүп',\n",
       " 'өзгертетін',\n",
       " 'оқырманның',\n",
       " 'бiлуi',\n",
       " 'жыбырлап']"
      ]
     },
     "execution_count": 18,
     "metadata": {},
     "output_type": "execute_result"
    }
   ],
   "source": [
    "docses = \" \".join(df.text.tolist())\n",
    "docses = re.sub('\\s+', ' ', docses)\n",
    "docses = list(set(docses.split(\" \")))\n",
    "pd.DataFrame(docses, columns = [\"unique\"]).to_csv(\"Corpus/big_unique_cleaned_words.csv\", index=False)\n",
    "print(len(docses))\n",
    "docses[:10]"
   ]
  },
  {
   "cell_type": "code",
   "execution_count": 21,
   "metadata": {},
   "outputs": [],
   "source": [
    "def stemming_unique(doc1, doc2):\n",
    "    length1 = len(doc1)\n",
    "    for i in range(0, length1):\n",
    "        print(i, '/', length1)\n",
    "        for j in range(i, len(doc2)):\n",
    "            s = comparison(doc1[i], doc2[j])\n",
    "            if(len(s) > 5):\n",
    "                doc2[j] = s\n",
    "    \n",
    "    return list(set(doc2))"
   ]
  },
  {
   "cell_type": "raw",
   "metadata": {},
   "source": [
    "unique_stem = stemming_unique(docses, docses)"
   ]
  },
  {
   "cell_type": "raw",
   "metadata": {},
   "source": [
    "print(len(unique_stem))"
   ]
  },
  {
   "cell_type": "code",
   "execution_count": null,
   "metadata": {},
   "outputs": [],
   "source": []
  },
  {
   "cell_type": "markdown",
   "metadata": {},
   "source": [
    "# There is have to run GOlang script in stemming_fast_process"
   ]
  },
  {
   "cell_type": "raw",
   "metadata": {},
   "source": []
  },
  {
   "cell_type": "markdown",
   "metadata": {},
   "source": [
    "# Reading after you've got Golang script's result"
   ]
  },
  {
   "cell_type": "code",
   "execution_count": null,
   "metadata": {},
   "outputs": [],
   "source": [
    "df = pd.read_csv('Corpus/big_corpus_stemmed.csv')\n",
    "df = cleaning_data(df)\n",
    "df['text'] = df['text'].astype(str)\n",
    "df['label'] = pd.to_numeric(df['label'])\n",
    "df"
   ]
  },
  {
   "cell_type": "code",
   "execution_count": null,
   "metadata": {},
   "outputs": [],
   "source": [
    "df = more_three(df)\n",
    "df.to_csv(\"Corpus/corpus_stemmed_more3.csv\", index = False)\n",
    "df"
   ]
  },
  {
   "cell_type": "markdown",
   "metadata": {},
   "source": [
    "# End"
   ]
  }
 ],
 "metadata": {
  "kernelspec": {
   "display_name": "Python 3",
   "language": "python",
   "name": "python3"
  },
  "language_info": {
   "codemirror_mode": {
    "name": "ipython",
    "version": 3
   },
   "file_extension": ".py",
   "mimetype": "text/x-python",
   "name": "python",
   "nbconvert_exporter": "python",
   "pygments_lexer": "ipython3",
   "version": "3.6.5"
  }
 },
 "nbformat": 4,
 "nbformat_minor": 2
}
