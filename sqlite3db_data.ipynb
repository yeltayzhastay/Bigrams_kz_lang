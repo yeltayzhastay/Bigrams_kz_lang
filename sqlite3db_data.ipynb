{
 "cells": [
  {
   "cell_type": "code",
   "execution_count": 4,
   "metadata": {},
   "outputs": [],
   "source": [
    "import pandas as pd\n",
    "import numpy as np\n",
    "import sqlite3"
   ]
  },
  {
   "cell_type": "code",
   "execution_count": 9,
   "metadata": {},
   "outputs": [],
   "source": [
    "conn = sqlite3.connect('Corpus/database/dictionary.db')\n",
    "cursorObj = conn.cursor()"
   ]
  },
  {
   "cell_type": "code",
   "execution_count": 33,
   "metadata": {},
   "outputs": [
    {
     "data": {
      "text/plain": [
       "[('predlog',),\n",
       " ('esimdik',),\n",
       " ('sqlite_sequence',),\n",
       " ('san_esim',),\n",
       " ('usteu',),\n",
       " ('zat',),\n",
       " ('iya',),\n",
       " ('iyi',),\n",
       " ('skl3',),\n",
       " ('kalyp',),\n",
       " ('pril_skl',),\n",
       " ('syn',),\n",
       " ('predlogi',),\n",
       " ('glagol_spr',),\n",
       " ('etistik',),\n",
       " ('zhalgaular',),\n",
       " ('skl1',),\n",
       " ('skl2',),\n",
       " ('words',)]"
      ]
     },
     "execution_count": 33,
     "metadata": {},
     "output_type": "execute_result"
    }
   ],
   "source": [
    "cursorObj.execute('SELECT name from sqlite_master where type= \"table\"')\n",
    "cursorObj.fetchall()"
   ]
  },
  {
   "cell_type": "code",
   "execution_count": 32,
   "metadata": {},
   "outputs": [
    {
     "data": {
      "text/html": [
       "<div>\n",
       "<style scoped>\n",
       "    .dataframe tbody tr th:only-of-type {\n",
       "        vertical-align: middle;\n",
       "    }\n",
       "\n",
       "    .dataframe tbody tr th {\n",
       "        vertical-align: top;\n",
       "    }\n",
       "\n",
       "    .dataframe thead th {\n",
       "        text-align: right;\n",
       "    }\n",
       "</style>\n",
       "<table border=\"1\" class=\"dataframe\">\n",
       "  <thead>\n",
       "    <tr style=\"text-align: right;\">\n",
       "      <th></th>\n",
       "      <th>id</th>\n",
       "      <th>kaz</th>\n",
       "      <th>rus</th>\n",
       "    </tr>\n",
       "  </thead>\n",
       "  <tbody>\n",
       "    <tr>\n",
       "      <th>0</th>\n",
       "      <td>id</td>\n",
       "      <td>kaz</td>\n",
       "      <td>rus</td>\n",
       "    </tr>\n",
       "    <tr>\n",
       "      <th>1</th>\n",
       "      <td>1</td>\n",
       "      <td>абадан</td>\n",
       "      <td>лучший</td>\n",
       "    </tr>\n",
       "    <tr>\n",
       "      <th>2</th>\n",
       "      <td>2</td>\n",
       "      <td>абажадай</td>\n",
       "      <td>громадный</td>\n",
       "    </tr>\n",
       "    <tr>\n",
       "      <th>3</th>\n",
       "      <td>3</td>\n",
       "      <td>абалақ-сабалақ</td>\n",
       "      <td>лохматый</td>\n",
       "    </tr>\n",
       "    <tr>\n",
       "      <th>4</th>\n",
       "      <td>4</td>\n",
       "      <td>абзалы</td>\n",
       "      <td>наилучший</td>\n",
       "    </tr>\n",
       "    <tr>\n",
       "      <th>...</th>\n",
       "      <td>...</td>\n",
       "      <td>...</td>\n",
       "      <td>...</td>\n",
       "    </tr>\n",
       "    <tr>\n",
       "      <th>3397</th>\n",
       "      <td>3419</td>\n",
       "      <td>эмоциялы</td>\n",
       "      <td>эмоциональный</td>\n",
       "    </tr>\n",
       "    <tr>\n",
       "      <th>3398</th>\n",
       "      <td>3420</td>\n",
       "      <td>эмоциялық</td>\n",
       "      <td>эмоциональный</td>\n",
       "    </tr>\n",
       "    <tr>\n",
       "      <th>3399</th>\n",
       "      <td>3421</td>\n",
       "      <td>эстетикалық</td>\n",
       "      <td>эстетический</td>\n",
       "    </tr>\n",
       "    <tr>\n",
       "      <th>3400</th>\n",
       "      <td>3422</td>\n",
       "      <td>этикалық</td>\n",
       "      <td>этический</td>\n",
       "    </tr>\n",
       "    <tr>\n",
       "      <th>3401</th>\n",
       "      <td>3423</td>\n",
       "      <td>этнографиялық</td>\n",
       "      <td>этнографический</td>\n",
       "    </tr>\n",
       "  </tbody>\n",
       "</table>\n",
       "<p>3402 rows × 3 columns</p>\n",
       "</div>"
      ],
      "text/plain": [
       "        id             kaz              rus\n",
       "0       id             kaz              rus\n",
       "1        1          абадан           лучший\n",
       "2        2        абажадай        громадный\n",
       "3        3  абалақ-сабалақ         лохматый\n",
       "4        4          абзалы        наилучший\n",
       "...    ...             ...              ...\n",
       "3397  3419        эмоциялы    эмоциональный\n",
       "3398  3420       эмоциялық    эмоциональный\n",
       "3399  3421     эстетикалық     эстетический\n",
       "3400  3422        этикалық        этический\n",
       "3401  3423   этнографиялық  этнографический\n",
       "\n",
       "[3402 rows x 3 columns]"
      ]
     },
     "execution_count": 32,
     "metadata": {},
     "output_type": "execute_result"
    }
   ],
   "source": [
    "df = pd.read_sql_query('SELECT * from syn', conn)\n",
    "df"
   ]
  },
  {
   "cell_type": "code",
   "execution_count": 20,
   "metadata": {},
   "outputs": [
    {
     "data": {
      "text/plain": [
       "0             kaz\n",
       "1             мен\n",
       "2            мені\n",
       "3           маған\n",
       "4         менімен\n",
       "5             сен\n",
       "6            сені\n",
       "7           саған\n",
       "8         сенімен\n",
       "9              ол\n",
       "10            оны\n",
       "11           оған\n",
       "12         оларға\n",
       "13            біз\n",
       "14          бізді\n",
       "15          бізге\n",
       "16         бізбен\n",
       "17            сіз\n",
       "18          сізді\n",
       "19          сізге\n",
       "20      сіздермен\n",
       "21         өзімді\n",
       "22          өзіме\n",
       "23        өзіммен\n",
       "24           олар\n",
       "25        олардың\n",
       "27        олармен\n",
       "28            кім\n",
       "29          кімді\n",
       "30          кімге\n",
       "31         кіммен\n",
       "32             не\n",
       "33           нені\n",
       "34           неге\n",
       "35          немен\n",
       "36          ешкім\n",
       "37        ешкімді\n",
       "38        ешкімге\n",
       "39       ешкіммен\n",
       "40        ешнәрсе\n",
       "41      ешнәрсені\n",
       "42      ешнәрсеге\n",
       "43     ешнәрсемен\n",
       "44               \n",
       "50          менің\n",
       "58         біздің\n",
       "101       әлдекім\n",
       "144        сендер\n",
       "Name: kaz, dtype: object"
      ]
     },
     "execution_count": 20,
     "metadata": {},
     "output_type": "execute_result"
    }
   ],
   "source": [
    "df.kaz.drop_duplicates()"
   ]
  }
 ],
 "metadata": {
  "kernelspec": {
   "display_name": "Python 3",
   "language": "python",
   "name": "python3"
  },
  "language_info": {
   "codemirror_mode": {
    "name": "ipython",
    "version": 3
   },
   "file_extension": ".py",
   "mimetype": "text/x-python",
   "name": "python",
   "nbconvert_exporter": "python",
   "pygments_lexer": "ipython3",
   "version": "3.7.7"
  }
 },
 "nbformat": 4,
 "nbformat_minor": 4
}
